{
 "cells": [
  {
   "cell_type": "markdown",
   "metadata": {
    "application/vnd.databricks.v1+cell": {
     "cellMetadata": {
      "byteLimit": 2048000,
      "rowLimit": 10000
     },
     "inputWidgets": {},
     "nuid": "e9646bf9-cbe2-4267-b6b7-d3be42c2039b",
     "showTitle": false,
     "tableResultSettingsMap": {},
     "title": ""
    }
   },
   "source": [
    "# Research the TPCH dataset\n",
    "* What is its significance in the industry\n",
    "* Write a small paragraph descibing the dataset (4-5 lines) \n",
    "* Use the cell below to write your answer"
   ]
  },
  {
   "cell_type": "markdown",
   "metadata": {
    "application/vnd.databricks.v1+cell": {
     "cellMetadata": {
      "byteLimit": 2048000,
      "rowLimit": 10000
     },
     "inputWidgets": {},
     "nuid": "45e8ef42-eb87-4378-99f9-fd66fc84cb51",
     "showTitle": true,
     "tableResultSettingsMap": {},
     "title": "TPCH "
    }
   },
   "source": [
    "The TPC-H dataset is a widely recognized industry benchmark designed to evaluate the efficiency and scalability of analytical database systems. It is extensively used by vendors and researchers to assess query optimization strategies, data storage architectures, and overall system performance under realistic decision support workloads. Because of its adoption across both academia and industry, it serves as a de facto standard for comparing data processing technologies.\n",
    "\n",
    "The dataset models a wholesale supplier business environment and captures a variety of business processes through interrelated tables such as **Customer, Orders, Lineitem, Part, Supplier, Nation, and Region**. These relationships enable complex analytical queries involving joins, aggregations, and filtering operations. Furthermore, its adjustable scale factor allows the dataset to be generated at sizes ranging from megabytes to terabytes, making it suitable for controlled classroom experiments as well as enterprise-scale performance evaluations.\n"
   ]
  },
  {
   "cell_type": "markdown",
   "metadata": {
    "application/vnd.databricks.v1+cell": {
     "cellMetadata": {
      "byteLimit": 2048000,
      "rowLimit": 10000
     },
     "inputWidgets": {},
     "nuid": "2183a491-5860-405c-b9a1-4cdef39dcf53",
     "showTitle": false,
     "tableResultSettingsMap": {},
     "title": ""
    }
   },
   "source": [
    "\n",
    "| Table Name | File Path                                         | Columns (in order)                                                                                                                                                      |\n",
    "|------------|---------------------------------------------------|-------------------------------------------------------------------------------------------------------------------------------------------------------------------------|\n",
    "| Customer   | dbfs:/databricks-datasets/tpch/data-001/customer/ | cust_key, name, address, nation_key, phone, acct_bal, mkt_segment, comment                                                                                              |\n",
    "| Orders     | dbfs:/databricks-datasets/tpch/data-001/orders/   | order_key, cust_key, order_status, total_price, order_date, order_priority, clerk, ship_priority, comment                                                               |\n",
    "| Supplier   | dbfs:/databricks-datasets/tpch/data-001/supplier  | supp_key, name, address, nation_key, phone, acct_bal, comment                                                                                                           |\n",
    "| Nation     | dbfs:/databricks-datasets/tpch/data-001/nation    | nation_key, name, region_key, comment                                                                                                                                   |\n",
    "| Region     | dbfs:/databricks-datasets/tpch/data-001/region    | region_key, name, comment                                                                                                                                               |\n",
    "| Lineitem   | dbfs:/databricks-datasets/tpch/data-001/lineitem  | order_key, part_key, supp_key, line_number, quantity, discount, tax, return_flag, line_status, ship_date, commit_date, receipt_date, ships_instruct, ship_mode, comment |\n",
    "| Part       | dbfs:/databricks-datasets/tpch/data-001/part      | part_key, name, mfgr, brand, type, size, container, retail_price, comment                                                                                               |\n",
    "| Partsupp   | dbfs:/databricks-datasets/tpch/data-001/partsupp  | part_key, supp_key, avail_qty, supply_cost, comment                                                                                                                     |"
   ]
  },
  {
   "cell_type": "code",
   "execution_count": 5,
   "metadata": {
    "application/vnd.databricks.v1+cell": {
     "cellMetadata": {
      "byteLimit": 2048000,
      "rowLimit": 10000
     },
     "inputWidgets": {},
     "nuid": "4ffe98d7-9d20-422c-b923-b59f201e3d84",
     "showTitle": true,
     "tableResultSettingsMap": {},
     "title": "List"
    }
   },
   "outputs": [
    {
     "ename": "NameError",
     "evalue": "name 'dbutils' is not defined",
     "output_type": "error",
     "traceback": [
      "\u001b[31m---------------------------------------------------------------------------\u001b[39m",
      "\u001b[31mNameError\u001b[39m                                 Traceback (most recent call last)",
      "\u001b[36mCell\u001b[39m\u001b[36m \u001b[39m\u001b[32mIn[5]\u001b[39m\u001b[32m, line 1\u001b[39m\n\u001b[32m----> \u001b[39m\u001b[32m1\u001b[39m \u001b[43mdbutils\u001b[49m.fs.ls(\u001b[33m'\u001b[39m\u001b[33mdbfs:/databricks-datasets/tpch/data-001/partsupp\u001b[39m\u001b[33m'\u001b[39m)\n",
      "\u001b[31mNameError\u001b[39m: name 'dbutils' is not defined"
     ]
    }
   ],
   "source": [
    "dbutils.fs.ls('dbfs:/databricks-datasets/tpch/data-001/partsupp')"
   ]
  },
  {
   "cell_type": "code",
   "execution_count": 0,
   "metadata": {
    "application/vnd.databricks.v1+cell": {
     "cellMetadata": {
      "byteLimit": 2048000,
      "rowLimit": 10000
     },
     "inputWidgets": {},
     "nuid": "61c4de5d-59ee-4a6f-b2d4-4393915e6960",
     "showTitle": true,
     "tableResultSettingsMap": {},
     "title": "Peek"
    }
   },
   "outputs": [],
   "source": [
    "dbutils.fs.head('dbfs:/databricks-datasets/tpch/data-001/lineitem/lineitem.tbl')"
   ]
  },
  {
   "cell_type": "code",
   "execution_count": 0,
   "metadata": {
    "application/vnd.databricks.v1+cell": {
     "cellMetadata": {},
     "inputWidgets": {},
     "nuid": "e1bef186-6a1d-4ffa-b0c8-9a1a0ec91704",
     "showTitle": true,
     "tableResultSettingsMap": {},
     "title": "Examine few rows of each folder aka table to explore the data"
    }
   },
   "outputs": [],
   "source": []
  },
  {
   "cell_type": "markdown",
   "metadata": {
    "application/vnd.databricks.v1+cell": {
     "cellMetadata": {},
     "inputWidgets": {},
     "nuid": "dad81290-f16a-4eab-8918-1da77ed4cb98",
     "showTitle": false,
     "tableResultSettingsMap": {},
     "title": ""
    }
   },
   "source": [
    "##### Setup"
   ]
  },
  {
   "cell_type": "code",
   "execution_count": 0,
   "metadata": {
    "application/vnd.databricks.v1+cell": {
     "cellMetadata": {
      "byteLimit": 2048000,
      "rowLimit": 10000
     },
     "inputWidgets": {},
     "nuid": "b637a6f3-958b-479a-8e44-288f254e612c",
     "showTitle": false,
     "tableResultSettingsMap": {},
     "title": ""
    }
   },
   "outputs": [],
   "source": [
    "spark.sql('CREATE CATALOG IF NOT EXISTS cscie103_catalog')\n",
    "spark.sql('USE CATALOG cscie103_catalog')\n",
    "spark.sql('CREATE SCHEMA IF NOT EXISTS assignment_02')\n",
    "spark.sql('USE cscie103_catalog.assignment_02')"
   ]
  },
  {
   "cell_type": "markdown",
   "metadata": {
    "application/vnd.databricks.v1+cell": {
     "cellMetadata": {},
     "inputWidgets": {},
     "nuid": "605a3560-71f5-4b0d-95c7-751d6565ea95",
     "showTitle": false,
     "tableResultSettingsMap": {},
     "title": ""
    }
   },
   "source": [
    "# Data Modeling\n",
    "* Create table with column types in your own database.\n",
    "* Justify partition strategy for each table. (theoretical question, no code neede)\n",
    "* How will you handle date and timezone fields in a world wide operation setup? (theoretical question, no code needed)"
   ]
  },
  {
   "cell_type": "code",
   "execution_count": 0,
   "metadata": {
    "application/vnd.databricks.v1+cell": {
     "cellMetadata": {},
     "inputWidgets": {},
     "nuid": "99b24ac5-f890-4b3b-ac03-da5dd7ef0467",
     "showTitle": true,
     "tableResultSettingsMap": {},
     "title": "Show Entity Relationship diagram"
    }
   },
   "outputs": [],
   "source": []
  },
  {
   "cell_type": "markdown",
   "metadata": {
    "application/vnd.databricks.v1+cell": {
     "cellMetadata": {},
     "inputWidgets": {},
     "nuid": "41f90ec9-1832-4011-a0c7-389e0ee6cef2",
     "showTitle": false,
     "tableResultSettingsMap": {},
     "title": ""
    }
   },
   "source": [
    "##### Notes: use powerpoint or Lucidchart or vizio or anything that you have access to for ER\n",
    "##### `<img src=\"<upload to g-drive, make it public & get link>\">`"
   ]
  },
  {
   "cell_type": "markdown",
   "metadata": {
    "application/vnd.databricks.v1+cell": {
     "cellMetadata": {
      "byteLimit": 2048000,
      "rowLimit": 10000
     },
     "inputWidgets": {},
     "nuid": "257f3a08-0775-493f-8420-37ee725a25ba",
     "showTitle": false,
     "tableResultSettingsMap": {},
     "title": ""
    }
   },
   "source": [
    "### DDL"
   ]
  },
  {
   "cell_type": "code",
   "execution_count": 0,
   "metadata": {
    "application/vnd.databricks.v1+cell": {
     "cellMetadata": {
      "byteLimit": 2048000,
      "rowLimit": 10000
     },
     "inputWidgets": {},
     "nuid": "7f964278-6c45-4d15-ac9c-3af1605d4d77",
     "showTitle": true,
     "tableResultSettingsMap": {},
     "title": "Create tables "
    }
   },
   "outputs": [],
   "source": [
    "%sql\n"
   ]
  },
  {
   "cell_type": "markdown",
   "metadata": {
    "application/vnd.databricks.v1+cell": {
     "cellMetadata": {
      "byteLimit": 2048000,
      "rowLimit": 10000
     },
     "inputWidgets": {},
     "nuid": "8b3c4332-541e-4d71-a288-f71d5d75f415",
     "showTitle": false,
     "tableResultSettingsMap": {},
     "title": ""
    }
   },
   "source": [
    "# Ingestion"
   ]
  },
  {
   "cell_type": "code",
   "execution_count": 0,
   "metadata": {
    "application/vnd.databricks.v1+cell": {
     "cellMetadata": {
      "byteLimit": 2048000,
      "rowLimit": 10000
     },
     "inputWidgets": {},
     "nuid": "49909598-8672-4671-a6e2-88eb07ade849",
     "showTitle": true,
     "tableResultSettingsMap": {},
     "title": "Ingest data sets - use spark.read"
    }
   },
   "outputs": [],
   "source": []
  },
  {
   "cell_type": "code",
   "execution_count": 0,
   "metadata": {
    "application/vnd.databricks.v1+cell": {
     "cellMetadata": {
      "byteLimit": 2048000,
      "rowLimit": 10000
     },
     "inputWidgets": {},
     "nuid": "b43292e1-4e8d-419b-a8d4-f0866114711f",
     "showTitle": true,
     "tableResultSettingsMap": {},
     "title": "Print Schema"
    }
   },
   "outputs": [],
   "source": []
  },
  {
   "cell_type": "code",
   "execution_count": 0,
   "metadata": {
    "application/vnd.databricks.v1+cell": {
     "cellMetadata": {
      "byteLimit": 2048000,
      "rowLimit": 10000
     },
     "inputWidgets": {},
     "nuid": "1f0cdc33-5832-415d-a174-d5a7e22668ae",
     "showTitle": true,
     "tableResultSettingsMap": {},
     "title": "Summary Statistics"
    }
   },
   "outputs": [],
   "source": []
  },
  {
   "cell_type": "markdown",
   "metadata": {
    "application/vnd.databricks.v1+cell": {
     "cellMetadata": {
      "byteLimit": 2048000,
      "rowLimit": 10000
     },
     "inputWidgets": {},
     "nuid": "463606a3-7847-45ea-95b3-3a7b0891e6bf",
     "showTitle": false,
     "tableResultSettingsMap": {},
     "title": ""
    }
   },
   "source": [
    " # Use the data to plot the following questions\n",
    "\n",
    "<br>\n",
    " \n",
    " * Use Data Frame API &/or SQL "
   ]
  },
  {
   "cell_type": "code",
   "execution_count": 0,
   "metadata": {
    "application/vnd.databricks.v1+cell": {
     "cellMetadata": {
      "byteLimit": 2048000,
      "rowLimit": 10000
     },
     "inputWidgets": {},
     "nuid": "8564b86d-820e-4c40-a62b-d968786dfbe0",
     "showTitle": true,
     "tableResultSettingsMap": {},
     "title": "Create a Dataframe that maps Nation Name to its ISO Code"
    }
   },
   "outputs": [],
   "source": [
    "#  ISO 3166-1 alpha-3 code code is at https://countrycode.org/\n",
    "# Create a dataframe and generate a temporary view that you can use in queries\n",
    "# Create a new Nations mapper table\n",
    "\n",
    "nationsmapper = (('JAPAN','JPN'),\n",
    "...\n",
    ")\n",
    "\n",
    "\n",
    "display(dfnationsmapper)"
   ]
  },
  {
   "cell_type": "code",
   "execution_count": 0,
   "metadata": {
    "application/vnd.databricks.v1+cell": {
     "cellMetadata": {
      "byteLimit": 2048000,
      "rowLimit": 10000
     },
     "inputWidgets": {},
     "nuid": "78451f1d-25fe-4a8d-8493-60ccafef8ba1",
     "showTitle": false,
     "tableResultSettingsMap": {},
     "title": ""
    }
   },
   "outputs": [],
   "source": [
    "# join the nations table with the nations mapper table and create a temp view\n",
    "# select nation_key, name and a column iso\n",
    "...\n",
    "display(nationsmappeddf)"
   ]
  },
  {
   "cell_type": "code",
   "execution_count": 0,
   "metadata": {
    "application/vnd.databricks.v1+cell": {
     "cellMetadata": {
      "byteLimit": 2048000,
      "implicitDf": true,
      "rowLimit": 10000
     },
     "inputWidgets": {},
     "nuid": "cd80ba0a-eea0-474d-85f3-dbded6a60fd8",
     "showTitle": true,
     "tableResultSettingsMap": {},
     "title": "Identify the top 50 active customers by Orders purchased, plot them on a world map"
    }
   },
   "outputs": [],
   "source": [
    "%sql\n",
    "--use the nationmapper view created in above cell in this query\n",
    "--use SQL to identify the Top 50. Make sure to use the ISO code on the Worldmap\n",
    "--Last 30 days\n"
   ]
  },
  {
   "cell_type": "code",
   "execution_count": 0,
   "metadata": {
    "application/vnd.databricks.v1+cell": {
     "cellMetadata": {
      "byteLimit": 2048000,
      "rowLimit": 10000
     },
     "inputWidgets": {},
     "nuid": "ff98931f-e596-4fcd-957b-89af3b7119c4",
     "showTitle": true,
     "tableResultSettingsMap": {},
     "title": "Who are the top 10 suppliers, in terms of account balance & use appropriate visualization. Use Dataframe APIs"
    }
   },
   "outputs": [],
   "source": [
    "\n",
    "from pyspark.sql import functions as F\n",
    "from pyspark.sql.functions import col \n",
    "#use Dataframe APIs\n",
    "...\n",
    "\n",
    "\n",
    "display(suppliersDF.limit(10))\n",
    "\n"
   ]
  },
  {
   "cell_type": "code",
   "execution_count": 0,
   "metadata": {
    "application/vnd.databricks.v1+cell": {
     "cellMetadata": {
      "byteLimit": 2048000,
      "implicitDf": true,
      "rowLimit": 10000
     },
     "inputWidgets": {},
     "nuid": "86f84404-1b2f-4019-b4ab-f49f83a126b5",
     "showTitle": true,
     "tableResultSettingsMap": {},
     "title": "Who are the top 10 suppliers, in terms of account balance & use appropriate visualization"
    }
   },
   "outputs": [],
   "source": [
    "%sql\n",
    "\n"
   ]
  },
  {
   "cell_type": "code",
   "execution_count": 0,
   "metadata": {
    "application/vnd.databricks.v1+cell": {
     "cellMetadata": {
      "byteLimit": 2048000,
      "rowLimit": 10000
     },
     "inputWidgets": {},
     "nuid": "b462ab0f-2ae1-4726-bd34-f1e463577e44",
     "showTitle": true,
     "tableResultSettingsMap": {},
     "title": "What are top 100 most popular items  & use appropriate visualization. Use Dataframe API"
    }
   },
   "outputs": [],
   "source": []
  },
  {
   "cell_type": "code",
   "execution_count": 0,
   "metadata": {
    "application/vnd.databricks.v1+cell": {
     "cellMetadata": {},
     "inputWidgets": {},
     "nuid": "26b4d5eb-67b4-4d9c-982f-7579ab7d5c1d",
     "showTitle": true,
     "tableResultSettingsMap": {},
     "title": "For each Part, get the top 3 cheapest options offered by suppliers. Use SQL and use only the Parts Supplier Table."
    }
   },
   "outputs": [],
   "source": [
    "%sql \n",
    "-- Hint: Use windowing functions.\n"
   ]
  },
  {
   "cell_type": "markdown",
   "metadata": {
    "application/vnd.databricks.v1+cell": {
     "cellMetadata": {
      "byteLimit": 2048000,
      "rowLimit": 10000
     },
     "inputWidgets": {},
     "nuid": "2ebde50b-bc67-42b2-bba5-03796c8b6cdd",
     "showTitle": false,
     "tableResultSettingsMap": {},
     "title": ""
    }
   },
   "source": [
    "# Data Transformations"
   ]
  },
  {
   "cell_type": "markdown",
   "metadata": {
    "application/vnd.databricks.v1+cell": {
     "cellMetadata": {},
     "inputWidgets": {},
     "nuid": "32d4f39b-798e-4832-a105-5251f320826c",
     "showTitle": false,
     "tableResultSettingsMap": {},
     "title": ""
    }
   },
   "source": [
    "* What is Managed Vs External Table\n",
    "* What is schema inference, schema enforcement & schema evolution\n",
    "* What is spill, shuffle in Spark\n",
    "* What is Spark Structured Streaming Vs DLT/LDP ?"
   ]
  },
  {
   "cell_type": "code",
   "execution_count": 0,
   "metadata": {
    "application/vnd.databricks.v1+cell": {
     "cellMetadata": {
      "byteLimit": 2048000,
      "rowLimit": 10000
     },
     "inputWidgets": {},
     "nuid": "04c31c73-9849-47df-b036-4ba713e7cecb",
     "showTitle": true,
     "tableResultSettingsMap": {},
     "title": "How would you denormalize these tables to answer the same questions"
    }
   },
   "outputs": [],
   "source": []
  },
  {
   "cell_type": "code",
   "execution_count": 0,
   "metadata": {
    "application/vnd.databricks.v1+cell": {
     "cellMetadata": {
      "byteLimit": 2048000,
      "rowLimit": 10000
     },
     "inputWidgets": {},
     "nuid": "578de8a6-c6ab-4170-8f0b-4225af38042d",
     "showTitle": true,
     "tableResultSettingsMap": {},
     "title": "What other data format would you choose and why"
    }
   },
   "outputs": [],
   "source": []
  },
  {
   "cell_type": "code",
   "execution_count": 0,
   "metadata": {
    "application/vnd.databricks.v1+cell": {
     "cellMetadata": {
      "byteLimit": 2048000,
      "rowLimit": 10000
     },
     "inputWidgets": {},
     "nuid": "7abb8dca-6614-4dfc-a67a-802878f6569a",
     "showTitle": true,
     "tableResultSettingsMap": {},
     "title": "How would you design for idempotent processing "
    }
   },
   "outputs": [],
   "source": [
    "# someone ran the pipeline twice in a day, we should not see duplicates"
   ]
  },
  {
   "cell_type": "code",
   "execution_count": 0,
   "metadata": {
    "application/vnd.databricks.v1+cell": {
     "cellMetadata": {
      "byteLimit": 2048000,
      "rowLimit": 10000
     },
     "inputWidgets": {},
     "nuid": "2f4f0dbf-fba1-4036-be91-0f698ebbd1f7",
     "showTitle": true,
     "tableResultSettingsMap": {},
     "title": "How would you design for re-processing "
    }
   },
   "outputs": [],
   "source": [
    "#someone recived news that upstream proceessing was wrongly computed and that the data for that day has to be redone"
   ]
  }
 ],
 "metadata": {
  "application/vnd.databricks.v1+notebook": {
   "computePreferences": {
    "hardware": {
     "accelerator": null,
     "gpuPoolId": null,
     "memory": null
    }
   },
   "dashboards": [],
   "environmentMetadata": null,
   "inputWidgetPreferences": null,
   "language": "python",
   "notebookMetadata": {
    "mostRecentlyExecutedCommandWithImplicitDF": {
     "commandId": 1296764268621967,
     "dataframes": [
      "_sqldf"
     ]
    },
    "pythonIndentUnit": 2
   },
   "notebookName": "CSCIE103_2025_Assignment-02",
   "widgets": {}
  },
  "kernelspec": {
   "display_name": ".venv",
   "language": "python",
   "name": "python3"
  },
  "language_info": {
   "codemirror_mode": {
    "name": "ipython",
    "version": 3
   },
   "file_extension": ".py",
   "mimetype": "text/x-python",
   "name": "python",
   "nbconvert_exporter": "python",
   "pygments_lexer": "ipython3",
   "version": "3.13.7"
  }
 },
 "nbformat": 4,
 "nbformat_minor": 0
}
